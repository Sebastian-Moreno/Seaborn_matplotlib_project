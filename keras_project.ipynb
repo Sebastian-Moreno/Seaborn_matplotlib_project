{
  "cells": [
    {
      "cell_type": "markdown",
      "metadata": {
        "id": "n60oRiT8oCaO"
      },
      "source": [
        "# Project (neural etwork with keras)\n",
        "In this project, we will use the Reuters Keras datasets to classify different newswires. To do this, we will split the data into training and test sets and apply different concepts acquired throughout the course (Dropout, K-fold validation, etc.).\n",
        "\n"
      ]
    },
    {
      "cell_type": "markdown",
      "metadata": {
        "id": "NPv1GUoJotFD"
      },
      "source": [
        "## required libreries and importing data"
      ]
    },
    {
      "cell_type": "code",
      "execution_count": 9,
      "metadata": {
        "id": "wV7kgXqyoBNV"
      },
      "outputs": [],
      "source": [
        "import numpy as np\n",
        "import matplotlib.pyplot as plt\n",
        "import pandas as pd\n",
        "from keras import models, layers, optimizers,regularizers\n",
        "from keras.datasets import reuters\n",
        "from keras.utils import to_categorical"
      ]
    },
    {
      "cell_type": "code",
      "execution_count": 10,
      "metadata": {
        "id": "s17DgcNKpkaF"
      },
      "outputs": [],
      "source": [
        "(train_data,train_labels),(test_data,test_labels)=reuters.load_data(num_words=10000)"
      ]
    },
    {
      "cell_type": "markdown",
      "metadata": {
        "id": "bqAm5maMsvKa"
      },
      "source": [
        "##   data pre-processing and creation of the model"
      ]
    },
    {
      "cell_type": "code",
      "execution_count": 11,
      "metadata": {
        "id": "1WejuYf937Ko"
      },
      "outputs": [],
      "source": [
        "dictionary= reuters.get_word_index()\n",
        " # switch keys and words\n",
        "dictionary= dict([(number,word) for word,number in dictionary.items()])\n",
        "\n",
        "#Creation of tensor function\n",
        "\n",
        "def tensor(reviews,words=10000):\n",
        "\n",
        "  result=np.zeros((len(reviews),words))\n",
        "\n",
        "  for i,words in enumerate(reviews):\n",
        "    result[i,words]=1\n",
        "\n",
        "  return result\n"
      ]
    },
    {
      "cell_type": "code",
      "execution_count": 12,
      "metadata": {
        "id": "o6oPtJgz6Q8U"
      },
      "outputs": [],
      "source": [
        "x_train=tensor(train_data)\n",
        "x_test=tensor(test_data)\n",
        "\n",
        "y_train=to_categorical(train_labels)\n",
        "y_test=to_categorical(test_labels)\n"
      ]
    },
    {
      "cell_type": "code",
      "execution_count": 13,
      "metadata": {
        "id": "VFVHkkWSp3Z2"
      },
      "outputs": [],
      "source": [
        "\n",
        "#model\n",
        "def create_model():\n",
        "  model= models.Sequential()\n",
        "  model.add(layers.Dense(128,activation=\"relu\",input_shape=(10000,)))\n",
        "  model.add(layers.Dropout(.2))\n",
        "  model.add(layers.Dense(128,activation=\"relu\"))\n",
        "  model.add(layers.Dropout(.2))\n",
        "  model.add(layers.Dense(128,activation=\"relu\",kernel_regularizer=regularizers.l2(0.001)))\n",
        "  model.add(layers.Dense(128,activation=\"relu\",kernel_regularizer=regularizers.l2(0.001)))\n",
        "  model.add(layers.Dense(46,activation=\"softmax\"))\n",
        "\n",
        "  adam=optimizers.Adam(learning_rate=0.0001)\n",
        "  model.compile(optimizer=adam,metrics=\"accuracy\",loss=\"categorical_crossentropy\")\n",
        "\n",
        "  return model\n"
      ]
    },
    {
      "cell_type": "markdown",
      "metadata": {
        "id": "MDdOo7IAvr-5"
      },
      "source": [
        "## Validation data and training the model\n",
        "Now we are going to train the model and use k-fold cross validation. Finally we will plot the accuracy of the model and sumarize the conclusions."
      ]
    },
    {
      "cell_type": "code",
      "execution_count": 14,
      "metadata": {
        "colab": {
          "base_uri": "https://localhost:8080/"
        },
        "id": "3aGmLWooqWSk",
        "outputId": "81b97059-f6ae-4f6c-8847-108294e9df53"
      },
      "outputs": [
        {
          "output_type": "stream",
          "name": "stdout",
          "text": [
            "Fold 0\n",
            "Fold 1\n"
          ]
        }
      ],
      "source": [
        "historial=[]\n",
        "k=2\n",
        "\n",
        "size=len(train_data)//k\n",
        "for i in range(k):\n",
        "  print(f\"Fold {i}\")\n",
        "  val_train= x_train[i*size:(i+1)*size]\n",
        "  val_label= y_train[i*size:(i+1)*size]\n",
        "\n",
        "  train= np.concatenate([x_train[:i*size],x_train[(i+1)*size:]],axis=0)\n",
        "  label= np.concatenate([y_train[:i*size],y_train[(i+1)*size:]],axis=0)\n",
        "\n",
        "  model=create_model()\n",
        "  information=model.fit(train,label,validation_data=(val_train,val_label),epochs=70,batch_size=512,verbose=0)\n",
        "  historial.append(information.history[\"val_accuracy\"])\n",
        "\n",
        "\n"
      ]
    },
    {
      "cell_type": "code",
      "source": [
        "historial"
      ],
      "metadata": {
        "id": "aFwdIMSZFolH"
      },
      "execution_count": null,
      "outputs": []
    },
    {
      "cell_type": "code",
      "source": [
        "plot=pd.DataFrame(np.mean(historial,axis=0))\n",
        "plt.plot(plot)"
      ],
      "metadata": {
        "id": "aT-OXv3kF4Bw",
        "colab": {
          "base_uri": "https://localhost:8080/",
          "height": 447
        },
        "outputId": "bffc23eb-a6f5-4f32-dc7e-28c5f0492c21"
      },
      "execution_count": 15,
      "outputs": [
        {
          "output_type": "execute_result",
          "data": {
            "text/plain": [
              "[<matplotlib.lines.Line2D at 0x7e115512fc70>]"
            ]
          },
          "metadata": {},
          "execution_count": 15
        },
        {
          "output_type": "display_data",
          "data": {
            "text/plain": [
              "<Figure size 640x480 with 1 Axes>"
            ],
            "image/png": "[encoded data removed]"
          },
          "metadata": {}
        }
      ]
    },
    {
      "cell_type": "code",
      "execution_count": 16,
      "metadata": {
        "colab": {
          "base_uri": "https://localhost:8080/"
        },
        "id": "oYgprFm81e8g",
        "outputId": "0e11188b-1060-4c05-bc5a-1e6c7b5a64bf"
      },
      "outputs": [
        {
          "output_type": "stream",
          "name": "stdout",
          "text": [
            "71/71 [==============================] - 1s 7ms/step - loss: 1.4575 - accuracy: 0.7765\n"
          ]
        },
        {
          "output_type": "execute_result",
          "data": {
            "text/plain": [
              "[1.4574573040008545, 0.7764915227890015]"
            ]
          },
          "metadata": {},
          "execution_count": 16
        }
      ],
      "source": [
        "model.evaluate(x_test,y_test)"
      ]
    },
    {
      "cell_type": "markdown",
      "source": [
        "## Conclusions\n",
        "\n",
        "We can conclude that the model has an accuracy of around 78%. In a previous test run, we found that the accuracy of the model reaches a maximum with layers containing more than 64 neurons. Additionally, we found that the number of epochs needed to reach the model's maximum performance is about 60 epochs.\n",
        "\n",
        "In conclusion, this course provided me with a wide variety of tools to create neural networks using Keras. Additionally, thanks to this course, I learned how neural networks work, what an activation function is, which activation functions are used the most, what tools are used to avoid overfitting, and the importance of a loss function and its derivative to improve the model.\n",
        "Sure, here is the translation:\n",
        "\n",
        "This course was a great start on my journey to learning about machine learning and artificial intelligence and becoming an expert.\n",
        "\n"
      ],
      "metadata": {
        "id": "SKzkngq1kG7e"
      }
    },
    {
      "cell_type": "code",
      "execution_count": null,
      "metadata": {
        "id": "OH8FzqKK2OrY"
      },
      "outputs": [],
      "source": []
    }
  ],
  "metadata": {
    "accelerator": "GPU",
    "colab": {
      "gpuType": "T4",
      "provenance": []
    },
    "kernelspec": {
      "display_name": "Python 3",
      "name": "python3"
    },
    "language_info": {
      "name": "python"
    }
  },
  "nbformat": 4,
  "nbformat_minor": 0
}